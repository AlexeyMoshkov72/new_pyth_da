{
 "cells": [
  {
   "cell_type": "markdown",
   "metadata": {},
   "source": [
    "Задание 1 \n",
    "Дана переменная, в которой хранится словарь, содержащий гео-метки для каждого пользователя \n",
    "(пример структуры данных приведен ниже). \n",
    "Вам необходимо написать программу, которая выведет на экран множество уникальных гео-меток всех пользователей."
   ]
  },
  {
   "cell_type": "code",
   "execution_count": 9,
   "metadata": {},
   "outputs": [
    {
     "name": "stdout",
     "output_type": "stream",
     "text": [
      "{98, 35, 15, 213, 54, 119}\n"
     ]
    }
   ],
   "source": [
    "ids = {'user1': [213, 213, 213, 15, 213], \n",
    "       'user2': [54, 54, 119, 119, 119], \n",
    "       'user3': [213, 98, 98, 35]}\n",
    "\n",
    "my_set = set()\n",
    "#print(type(my_set))\n",
    "\n",
    "tmp_l = []\n",
    "#mp_l2 =[]\n",
    "\n",
    "for val in ids.values():\n",
    "    tmp_l.append(val)\n",
    "    tmp_l2 = sum(tmp_l, [])\n",
    "    for el in tmp_l2:\n",
    "        my_set.add(el)\n",
    "#rint(tmp_l)\n",
    "#rint(tmp_l2)\n",
    "print(my_set)\n",
    "\n"
   ]
  },
  {
   "cell_type": "markdown",
   "metadata": {},
   "source": [
    "Задание 2 Дана переменная, в которой хранится список поисковых запросов пользователя (пример структуры данных приведен ниже). \n",
    "Вам необходимо написать программу, которая выведет на экран распределение количества слов в запросах в требуемом виде"
   ]
  },
  {
   "cell_type": "code",
   "execution_count": 47,
   "metadata": {},
   "outputs": [
    {
     "name": "stdout",
     "output_type": "stream",
     "text": [
      "Поисковых запросов, содержащих 2 слов(а): 42.86%\n",
      "Поисковых запросов, содержащих 3 слов(а): 57.14%\n"
     ]
    }
   ],
   "source": [
    "queries = [\n",
    "    'смотреть сериалы онлайн',\n",
    "    'новости спорта',\n",
    "    'афиша кино',\n",
    "    'курс доллара',\n",
    "    'сериалы этим летом',\n",
    "    'курс по питону',\n",
    "    'сериалы про спорт',\n",
    "]\n",
    "\n",
    "res = []\n",
    "i = 0\n",
    "\n",
    "for qr in queries:\n",
    "    res.append(len(queries[i].split(' ')))\n",
    "    i = i + 1\n",
    "    un_res = set(res)\n",
    "   \n",
    "for un in un_res:\n",
    "    print(f'Поисковых запросов, содержащих {un} слов(а): {round(res.count(un)/len(res)*100,2)}%')"
   ]
  },
  {
   "cell_type": "markdown",
   "metadata": {},
   "source": [
    "Задание 3\n",
    "Дана переменная, в которой хранится информация о затратах и доходе рекламных кампаний по различным источникам. \n",
    "Необходимо дополнить исходную структуру показателем ROI, который рассчитаем по формуле: (revenue / cost - 1) * 100"
   ]
  },
  {
   "cell_type": "code",
   "execution_count": 57,
   "metadata": {},
   "outputs": [
    {
     "name": "stdout",
     "output_type": "stream",
     "text": [
      "{'revenue': 103, 'cost': 98, 'roi': 5.1}\n",
      "{'revenue': 179, 'cost': 153, 'roi': 16.99}\n",
      "{'revenue': 103, 'cost': 110, 'roi': -6.36}\n",
      "{'revenue': 35, 'cost': 34, 'roi': 2.94}\n",
      "{'revenue': 11, 'cost': 24, 'roi': -54.17}\n",
      "{'vk': {'revenue': 103, 'cost': 98, 'roi': 5.1}, 'yandex': {'revenue': 179, 'cost': 153, 'roi': 16.99}, 'facebook': {'revenue': 103, 'cost': 110, 'roi': -6.36}, 'adwords': {'revenue': 35, 'cost': 34, 'roi': 2.94}, 'twitter': {'revenue': 11, 'cost': 24, 'roi': -54.17}}\n"
     ]
    }
   ],
   "source": [
    "results = {\n",
    "    'vk': {'revenue': 103, 'cost': 98},\n",
    "    'yandex': {'revenue': 179, 'cost': 153},\n",
    "    'facebook': {'revenue': 103, 'cost': 110},\n",
    "    'adwords': {'revenue': 35, 'cost': 34},\n",
    "    'twitter': {'revenue': 11, 'cost': 24},\n",
    "}\n",
    "\n",
    "for value in results.values():\n",
    "    roi_val = round(((value['revenue'] / value['cost'] - 1) * 100),2)\n",
    "    value['roi'] = roi_val\n",
    "#    sorted(value.keys()) #, reverse=True) # не работает функция сортировки словаря. не могу понять почему???\n",
    "#    print(value)\n",
    "\n",
    "print(results)"
   ]
  },
  {
   "cell_type": "markdown",
   "metadata": {},
   "source": [
    "Задание 4\n",
    "Дана переменная, в которой хранится статистика рекламных каналов по объемам продаж (пример структуры данных приведен ниже).\n",
    "Напишите программу, которая возвращает название канала с максимальным объемом продаж."
   ]
  },
  {
   "cell_type": "code",
   "execution_count": 87,
   "metadata": {},
   "outputs": [
    {
     "name": "stdout",
     "output_type": "stream",
     "text": [
      "Максимальный объем продаж на рекламном канале: vk\n"
     ]
    }
   ],
   "source": [
    "stats = {'facebook': 55, 'yandex': 115, 'vk': 120, 'google': 99, 'email': 42, 'ok': 98}\n",
    "\n",
    "val = []\n",
    "\n",
    "for value in stats.values():\n",
    "    val.append(value)\n",
    "\n",
    "for key, value in stats.items():\n",
    "    if value == max(val):\n",
    "        print(f'Максимальный объем продаж на рекламном канале: {key}')"
   ]
  },
  {
   "cell_type": "markdown",
   "metadata": {},
   "source": [
    "Задание 5 (необязательно)\n",
    "Дан список произвольной длины. \n",
    "Необходимо написать код, который на основе исходного списка составит словарь такого уровня вложенности, \n",
    "какова длина исхондого списка"
   ]
  },
  {
   "cell_type": "code",
   "execution_count": 197,
   "metadata": {},
   "outputs": [
    {
     "name": "stdout",
     "output_type": "stream",
     "text": [
      "{'2018-01-01': {'yandex': {'cpc': 100}}}\n",
      "{'a': {'b': {'c': {'d': {'e': 'f'}}}}}\n"
     ]
    }
   ],
   "source": [
    "my_list_1 = ['2018-01-01', 'yandex', 'cpc', 100]\n",
    "my_list_2 = ['a', 'b', 'c', 'd', 'e', 'f']\n",
    "\n",
    "my_dict = {my_list_1[-2]:my_list_1[-1]}\n",
    "         \n",
    "i = -3\n",
    "\n",
    "for el in my_list_1:\n",
    "    if i >= ((len(my_list_1)) * (-1)):\n",
    "        my_dict = {my_list_1[i]: my_dict}\n",
    "        i = i -1\n",
    "    \n",
    "print(my_dict)\n",
    "\n",
    "\n",
    "\n",
    "my_dict_2 = {my_list_2[-2]:my_list_2[-1]}\n",
    "         \n",
    "i = -3\n",
    "\n",
    "for el in my_list_2:\n",
    "    if i >= ((len(my_list_2)) * (-1)):\n",
    "        my_dict_2 = {my_list_2[i]: my_dict_2}\n",
    "        i = i - 1\n",
    "    \n",
    "print(my_dict_2)"
   ]
  },
  {
   "cell_type": "code",
   "execution_count": null,
   "metadata": {},
   "outputs": [],
   "source": []
  }
 ],
 "metadata": {
  "kernelspec": {
   "display_name": "Python 3",
   "language": "python",
   "name": "python3"
  },
  "language_info": {
   "codemirror_mode": {
    "name": "ipython",
    "version": 3
   },
   "file_extension": ".py",
   "mimetype": "text/x-python",
   "name": "python",
   "nbconvert_exporter": "python",
   "pygments_lexer": "ipython3",
   "version": "3.8.3"
  }
 },
 "nbformat": 4,
 "nbformat_minor": 4
}
