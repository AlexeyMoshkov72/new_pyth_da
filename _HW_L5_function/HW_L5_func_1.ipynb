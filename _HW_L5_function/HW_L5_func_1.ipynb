{
 "cells": [
  {
   "cell_type": "markdown",
   "metadata": {},
   "source": [
    "## Домашнее задание к лекции \"Функции\""
   ]
  },
  {
   "cell_type": "markdown",
   "metadata": {},
   "source": [
    "Вам нужно помочь секретарю автоматизировать работу. \n",
    "Для этого нужно написать программу, которая будет на основе хранимых данных исполнять пользовательские команды"
   ]
  },
  {
   "cell_type": "code",
   "execution_count": 1,
   "metadata": {},
   "outputs": [],
   "source": [
    "documents = [\n",
    "    {'type': 'passport', 'number': '2207 876234', 'name': 'Василий Гупкин'},\n",
    "    {'type': 'invoice', 'number': '11-2', 'name': 'Геннадий Покемонов'},\n",
    "    {'type': 'insurance', 'number': '10006', 'name': 'Аристарх Павлов'}\n",
    "    ]\n",
    "\n",
    "directories = {\n",
    "     '1': ['2207 876234', '11-2'],\n",
    "     '2': ['10006'],\n",
    "     '3': []\n",
    "    }\n"
   ]
  },
  {
   "cell_type": "markdown",
   "metadata": {},
   "source": [
    "Общие требования к программе:\n",
    "\n",
    "•\tкод должен быть грамотно декомпозирован (каждая функция отвечает за свою конкретную задачу, дублирующийся функционал переиспользуется, а его код не повторяется);\n",
    "\n",
    "•\tв коде отсутствуют глобальные переменные (за исключением documents и directories);\n",
    "\n",
    "•\tпользовательский ввод обрабатывается в цикле while до тех пор, пока пользователь явно не завершит программу (вводом команды \"q\").\n"
   ]
  },
  {
   "cell_type": "markdown",
   "metadata": {},
   "source": [
    "### Задание 1\n",
    "\n",
    "Пункт 1. Пользователь по команде \"p\" может узнать владельца документа по его номеру"
   ]
  },
  {
   "cell_type": "code",
   "execution_count": 4,
   "metadata": {},
   "outputs": [],
   "source": [
    "def search_owner_doc():\n",
    "    num_doc = input('Введите номер документа ')\n",
    "    k = ''\n",
    "\n",
    "    for el in documents:\n",
    "        if el['number'] == num_doc:\n",
    "            print('Владелец документа: ' + str(el['name']))\n",
    "            k = num_doc\n",
    "        \n",
    "    if num_doc != k:\n",
    "        print('Документ не найден в базе')\n",
    "        \n",
    "    return\n"
   ]
  },
  {
   "cell_type": "code",
   "execution_count": 5,
   "metadata": {},
   "outputs": [
    {
     "name": "stdout",
     "output_type": "stream",
     "text": [
      "Введите номер документа 11-3\n",
      "Документ не найден в базе\n"
     ]
    }
   ],
   "source": [
    "search_owner_doc()"
   ]
  },
  {
   "cell_type": "markdown",
   "metadata": {},
   "source": [
    "Пункт 2. Пользователь по команде \"s\" может по номеру документа узнать на какой полке он хранится"
   ]
  },
  {
   "cell_type": "code",
   "execution_count": 6,
   "metadata": {},
   "outputs": [],
   "source": [
    "def doc_on_dic():\n",
    "    num_doc = input('Введите номер документа ')\n",
    "    k = ''\n",
    "\n",
    "    for key, val in directories.items():\n",
    "        if num_doc in val:\n",
    "            print(f'Документ хранится на полке: {key}')\n",
    "            k = num_doc           \n",
    "        \n",
    "    if num_doc != k:\n",
    "         print('Документ не найден в базе')\n",
    "    \n",
    "    return"
   ]
  },
  {
   "cell_type": "markdown",
   "metadata": {},
   "source": [
    "Пункт 3. Пользователь по команде \"l\" может увидеть полную информацию по всем документам"
   ]
  },
  {
   "cell_type": "code",
   "execution_count": 11,
   "metadata": {},
   "outputs": [],
   "source": [
    "def info_docs():\n",
    "    for el in documents:\n",
    "        num = el['number']\n",
    "        typ = el['type']\n",
    "        own = el['name']\n",
    "        for key, val in directories.items():\n",
    "            if num in val:\n",
    "                direct_full = key\n",
    "                doc_list = val\n",
    "        print(f'№: {num}, тип: {typ}, владелец: {own}, полка хранения: {direct_full}')\n",
    "    return"
   ]
  },
  {
   "cell_type": "markdown",
   "metadata": {},
   "source": [
    "Пункт 4. Пользователь по команде \"ads\" может добавить новую полку"
   ]
  },
  {
   "cell_type": "code",
   "execution_count": 27,
   "metadata": {},
   "outputs": [],
   "source": [
    "def add_dir():\n",
    "    k = input('Введите номер полки ')\n",
    "\n",
    "    i = ''\n",
    "    st = ''\n",
    "\n",
    "    for key in directories:\n",
    "        if st == '': \n",
    "            st = f'{key}' \n",
    "        else: \n",
    "            st = f'{st}, {key}'\n",
    "        if k in key:\n",
    "            i = k\n",
    "\n",
    "    if i == k: \n",
    "        print(f'Такая полка уже существует. Текущий перечень полок: {st}.')\n",
    "    else: \n",
    "        directories[f'{k}'] = []  \n",
    "        print(f'Полка добавлена. Текущий перечень полок: {st}, {k}.')\n",
    "    return"
   ]
  },
  {
   "cell_type": "markdown",
   "metadata": {},
   "source": [
    "Пункт 5. Пользователь по команде \"ds\" может удалить существующую полку из данных (только если она пустая)"
   ]
  },
  {
   "cell_type": "code",
   "execution_count": 22,
   "metadata": {},
   "outputs": [],
   "source": [
    "def del_dic():\n",
    "    k = input('Введите номер полки ')\n",
    "\n",
    "    i = 0\n",
    "    tmp_str = ''\n",
    "    tmp_dir = directories.copy()\n",
    "\n",
    "    for key, val in tmp_dir.items():\n",
    "        if k in key:\n",
    "            if val != []:\n",
    "                i = 1\n",
    "            elif val == []:\n",
    "                i = 2\n",
    "                del directories[k]            \n",
    "    \n",
    "    for key_1 in directories:\n",
    "        tmp_str = tmp_str +str(key_1) + ', '        \n",
    "\n",
    "    \n",
    "    if i == 1:\n",
    "        print(f'На полке есть документа, удалите их перед удалением полки. Текущий перечень полок: {tmp_str}')\n",
    "    elif i == 2:\n",
    "        print(f'Полка удалена. Текущий перечень полок: {tmp_str}')\n",
    "    else: print(f'Такой полки не существует. Текущий перечень полок: {tmp_str}')\n",
    "    return"
   ]
  },
  {
   "cell_type": "code",
   "execution_count": 28,
   "metadata": {},
   "outputs": [],
   "source": [
    "def manage_docs():\n",
    "    while True:\n",
    "        user_input = input('Введите команду').lower()\n",
    "        if user_input == 'p':\n",
    "            search_owner_doc()\n",
    "        elif user_input == 's':\n",
    "            doc_on_dic()\n",
    "        elif user_input == 'l':\n",
    "            info_docs()\n",
    "        elif user_input == 'ads':\n",
    "            add_dir()\n",
    "        elif user_input == 'ds':\n",
    "            del_dic()\n",
    "        elif user_input == 'q':\n",
    "            print('До свидания!')\n",
    "            break"
   ]
  },
  {
   "cell_type": "code",
   "execution_count": 29,
   "metadata": {},
   "outputs": [
    {
     "name": "stdout",
     "output_type": "stream",
     "text": [
      "Введите командуP\n",
      "Введите номер документа 11-2\n",
      "Владелец документа: Геннадий Покемонов\n",
      "Введите командуq\n",
      "До свидания!\n"
     ]
    }
   ],
   "source": [
    "manage_docs()"
   ]
  }
 ],
 "metadata": {
  "kernelspec": {
   "display_name": "Python 3",
   "language": "python",
   "name": "python3"
  },
  "language_info": {
   "codemirror_mode": {
    "name": "ipython",
    "version": 3
   },
   "file_extension": ".py",
   "mimetype": "text/x-python",
   "name": "python",
   "nbconvert_exporter": "python",
   "pygments_lexer": "ipython3",
   "version": "3.8.3"
  }
 },
 "nbformat": 4,
 "nbformat_minor": 4
}
