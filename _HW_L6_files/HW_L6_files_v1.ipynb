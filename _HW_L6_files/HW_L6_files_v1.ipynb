{
 "cells": [
  {
   "cell_type": "markdown",
   "metadata": {},
   "source": [
    "1.\tПереведите содержимое файла purchase_log.txt в словарь purchases вида:\n",
    "\n",
    "{‘1840e0b9d4’: ‘Продукты’, …}\n"
   ]
  },
  {
   "cell_type": "code",
   "execution_count": 2,
   "metadata": {},
   "outputs": [],
   "source": [
    "import os\n",
    "    \n",
    "import json\n",
    "    \n",
    "f = open('purchase_log.txt', 'r', encoding='utf-8')\n",
    "\n",
    "purchases = dict()\n",
    "\n",
    "for i, line in enumerate(f):\n",
    "    if i > 0:\n",
    "        k = json.loads(line).get('user_id')\n",
    "        v = json.loads(line).get('category')\n",
    "        purchases[f'{k}'] = f'{v}'            \n"
   ]
  },
  {
   "cell_type": "markdown",
   "metadata": {},
   "source": [
    "2.\tДля каждого user_id в файле visit_log.csv определите третий столбец с категорией покупки (если покупка была, сам файл visit_log.csv изменять не надо). \n",
    "Запишите в файл funnel.csv визиты из файла visit_log.csv, в которых были покупки с указанием категории.\n",
    "\n",
    "\n",
    "Учтите условия на данные:\n",
    "содержимое purchase_log.txt помещается в оперативную память компьютера\n",
    "содержимое visit_log.csv - нет; используйте только построчную обработку этого файла\n"
   ]
  },
  {
   "cell_type": "code",
   "execution_count": 7,
   "metadata": {},
   "outputs": [],
   "source": [
    "with open('visit_log.csv', 'r') as f_1:\n",
    "    with open('funnel.csv', 'w') as f_res:\n",
    "        \n",
    "         for i, line in enumerate(f_1):\n",
    "            line_1 = line.strip().split(',')\n",
    "            if i == 0:\n",
    "                    line_1.append('category')\n",
    "                    line_str = f'{line_1[0]},{line_1[1]},{line_1[2]}'\n",
    "                    f_res.write(line_str + '\\n')            \n",
    "            elif line_1[0] in purchases:\n",
    "                    line_1.append(purchases[line_1[0]])\n",
    "                    line_str = f'{line_1[0]},{line_1[1]},{line_1[2]}'\n",
    "                    f_res.write(line_str + '\\n')"
   ]
  }
 ],
 "metadata": {
  "kernelspec": {
   "display_name": "Python 3",
   "language": "python",
   "name": "python3"
  },
  "language_info": {
   "codemirror_mode": {
    "name": "ipython",
    "version": 3
   },
   "file_extension": ".py",
   "mimetype": "text/x-python",
   "name": "python",
   "nbconvert_exporter": "python",
   "pygments_lexer": "ipython3",
   "version": "3.8.3"
  }
 },
 "nbformat": 4,
 "nbformat_minor": 4
}
