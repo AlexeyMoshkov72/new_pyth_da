{
 "cells": [
  {
   "cell_type": "markdown",
   "metadata": {},
   "source": [
    "## Домашнее задание к лекции \"Основы веб-скрапинга и работы с API\""
   ]
  },
  {
   "cell_type": "markdown",
   "metadata": {},
   "source": [
    "### Задание 1.\n",
    "\n",
    "#### Обязательная часть\n",
    "Будем парсить страницу со свежеми новостям на habr.com/ru/all/.\n",
    "\n",
    "Вам необходимо собирать только те статьи, в которых встречается хотя бы одно требуемое ключевое слово. Эти слова определяем в начале кода в переменной, например:\n",
    "\n",
    "KEYWORDS = ['python', 'парсинг']\n",
    "\n",
    "Поиск вести по всей доступной preview-информации (это информация, доступная непосредственно с текущей страницы).\n",
    "\n",
    "В итоге должен формироваться датафрейм вида: <дата> - <заголовок> - <ссылка>"
   ]
  },
  {
   "cell_type": "code",
   "execution_count": 9,
   "metadata": {},
   "outputs": [],
   "source": [
    "import requests\n",
    "\n",
    "import time\n",
    "\n",
    "import pandas as pd\n",
    "\n",
    "import datetime"
   ]
  },
  {
   "cell_type": "code",
   "execution_count": 74,
   "metadata": {},
   "outputs": [],
   "source": [
    "KEYWORDS = ['python', 'парсинг', 'Athelas', 'LinkedIn']"
   ]
  },
  {
   "cell_type": "code",
   "execution_count": 4,
   "metadata": {},
   "outputs": [],
   "source": [
    "from bs4 import BeautifulSoup"
   ]
  },
  {
   "cell_type": "code",
   "execution_count": 17,
   "metadata": {},
   "outputs": [],
   "source": [
    "def change_str_habr_date(str_date):\n",
    "    import datetime\n",
    "    \n",
    "    months = {'1':'января', '2':'февраля','3':'марта','4':'апреля','5':'мая','6':'июня','7':'июля','8':'августа','9':'сентября','10':'октября','11':'ноября','12':'декабря'}\n",
    "    date_1 = 'сегодня'\n",
    "    date_2 = 'вчера'\n",
    "    \n",
    "    if date_1 in str_date:\n",
    "        time = datetime.datetime.strptime(str_date, 'сегодня в %H:%M').time()\n",
    "        date = datetime.datetime.today().date()\n",
    "        date_post = datetime.datetime.combine(date, time)\n",
    "    elif date_2 in str_date:\n",
    "        time = datetime.datetime.strptime(str_date, 'вчера в %H:%M').time()\n",
    "        date = datetime.datetime.now().date() - datetime.timedelta(days=1) \n",
    "        date_post = datetime.datetime.combine(date, time)\n",
    "    else:\n",
    "        for key, values in months.items():\n",
    "            if values in str_date:\n",
    "                str_date = str_date.replace(values, key)\n",
    "                date_post = datetime.datetime.strptime(str_date, '%d %m %Y в %H:%M')\n",
    "    \n",
    "    return date_post\n",
    "                "
   ]
  },
  {
   "cell_type": "code",
   "execution_count": 78,
   "metadata": {},
   "outputs": [
    {
     "data": {
      "text/html": [
       "<div>\n",
       "<style scoped>\n",
       "    .dataframe tbody tr th:only-of-type {\n",
       "        vertical-align: middle;\n",
       "    }\n",
       "\n",
       "    .dataframe tbody tr th {\n",
       "        vertical-align: top;\n",
       "    }\n",
       "\n",
       "    .dataframe thead th {\n",
       "        text-align: right;\n",
       "    }\n",
       "</style>\n",
       "<table border=\"1\" class=\"dataframe\">\n",
       "  <thead>\n",
       "    <tr style=\"text-align: right;\">\n",
       "      <th></th>\n",
       "      <th>date</th>\n",
       "      <th>link</th>\n",
       "      <th>title</th>\n",
       "      <th>preview</th>\n",
       "    </tr>\n",
       "  </thead>\n",
       "  <tbody>\n",
       "    <tr>\n",
       "      <th>0</th>\n",
       "      <td>2020-12-04 13:54:00</td>\n",
       "      <td>https://habr.com/ru/post/531322/</td>\n",
       "      <td>\\nДиагностика крови с помощью Deep Learning: К...</td>\n",
       "      <td>\\n\\n\\nСлева — Танай Тандон, в 17 лет в 2014 го...</td>\n",
       "    </tr>\n",
       "    <tr>\n",
       "      <th>0</th>\n",
       "      <td>2020-12-04 12:43:00</td>\n",
       "      <td>https://habr.com/ru/post/531304/</td>\n",
       "      <td>\\nКак в LinkedIn настроили программу удаленног...</td>\n",
       "      <td>\\nНашел любопытный кейс, как в LinkedIn перест...</td>\n",
       "    </tr>\n",
       "  </tbody>\n",
       "</table>\n",
       "</div>"
      ],
      "text/plain": [
       "                 date                              link  \\\n",
       "0 2020-12-04 13:54:00  https://habr.com/ru/post/531322/   \n",
       "0 2020-12-04 12:43:00  https://habr.com/ru/post/531304/   \n",
       "\n",
       "                                               title  \\\n",
       "0  \\nДиагностика крови с помощью Deep Learning: К...   \n",
       "0  \\nКак в LinkedIn настроили программу удаленног...   \n",
       "\n",
       "                                             preview  \n",
       "0  \\n\\n\\nСлева — Танай Тандон, в 17 лет в 2014 го...  \n",
       "0  \\nНашел любопытный кейс, как в LinkedIn перест...  "
      ]
     },
     "execution_count": 78,
     "metadata": {},
     "output_type": "execute_result"
    }
   ],
   "source": [
    "URL = 'https://habr.com/ru/all/'\n",
    "res = requests.get(URL)\n",
    "soup = BeautifulSoup(res.text, 'html.parser')\n",
    "posts = soup.find_all('article', class_='post')\n",
    "\n",
    "row = dict()\n",
    "habr_news = pd.DataFrame()\n",
    "\n",
    "for post in posts:\n",
    "    time.sleep(0.3)\n",
    "    post_class_link = post.find('h2', class_='post__title')\n",
    "    post_link =  post_class_link.find('a').get('href')\n",
    "    title_post = post_class_link.text\n",
    "    text_preview = post.find('div', class_='post__text').text\n",
    "    text_date = post.find('span', class_='post__time').text\n",
    "    date = change_str_habr_date(text_date)\n",
    "    for word in KEYWORDS:\n",
    "        if word in title_post or word in text_preview:\n",
    "            row = {'date': date, 'link':post_link, 'title':title_post, 'preview':text_preview}\n",
    "            habr_news = pd.concat([habr_news, pd.DataFrame([row])])\n",
    "\n",
    "habr_news"
   ]
  },
  {
   "cell_type": "markdown",
   "metadata": {},
   "source": [
    "#### Дополнительная часть (необязательная)\n",
    "\n",
    "Улучшить скрипт так, чтобы он анализировал не только preview-информацию статьи, но и весь текст статьи целиком.\n",
    "\n",
    "Для этого потребуется получать страницы статей и искать по тексту внутри этой страницы.\n",
    "\n",
    "Итоговый датафрейм формировать со столбцами: <дата> - <заголовок> - <ссылка> - <текст_статьи>"
   ]
  },
  {
   "cell_type": "code",
   "execution_count": null,
   "metadata": {},
   "outputs": [],
   "source": [
    "# получаем часть HTML кода по ссылке (переменная post_link)\n",
    "\n",
    "# soup_for_full_text = BeautifulSoup(requests.get(post_link).text, 'html.parser')\n",
    "# soup_for_full"
   ]
  },
  {
   "cell_type": "code",
   "execution_count": 89,
   "metadata": {},
   "outputs": [
    {
     "data": {
      "text/html": [
       "<div>\n",
       "<style scoped>\n",
       "    .dataframe tbody tr th:only-of-type {\n",
       "        vertical-align: middle;\n",
       "    }\n",
       "\n",
       "    .dataframe tbody tr th {\n",
       "        vertical-align: top;\n",
       "    }\n",
       "\n",
       "    .dataframe thead th {\n",
       "        text-align: right;\n",
       "    }\n",
       "</style>\n",
       "<table border=\"1\" class=\"dataframe\">\n",
       "  <thead>\n",
       "    <tr style=\"text-align: right;\">\n",
       "      <th></th>\n",
       "      <th>date</th>\n",
       "      <th>link</th>\n",
       "      <th>title</th>\n",
       "      <th>text</th>\n",
       "    </tr>\n",
       "  </thead>\n",
       "  <tbody>\n",
       "    <tr>\n",
       "      <th>0</th>\n",
       "      <td>2020-12-04 13:54:00</td>\n",
       "      <td>https://habr.com/ru/post/531322/</td>\n",
       "      <td>\\nДиагностика крови с помощью Deep Learning: К...</td>\n",
       "      <td>\\n\\nСлева — Танай Тандон, в 17 лет в 2014 году...</td>\n",
       "    </tr>\n",
       "    <tr>\n",
       "      <th>0</th>\n",
       "      <td>2020-12-04 12:43:00</td>\n",
       "      <td>https://habr.com/ru/post/531304/</td>\n",
       "      <td>\\nКак в LinkedIn настроили программу удаленног...</td>\n",
       "      <td>Нашел любопытный кейс, как в LinkedIn перестро...</td>\n",
       "    </tr>\n",
       "  </tbody>\n",
       "</table>\n",
       "</div>"
      ],
      "text/plain": [
       "                 date                              link  \\\n",
       "0 2020-12-04 13:54:00  https://habr.com/ru/post/531322/   \n",
       "0 2020-12-04 12:43:00  https://habr.com/ru/post/531304/   \n",
       "\n",
       "                                               title  \\\n",
       "0  \\nДиагностика крови с помощью Deep Learning: К...   \n",
       "0  \\nКак в LinkedIn настроили программу удаленног...   \n",
       "\n",
       "                                                text  \n",
       "0  \\n\\nСлева — Танай Тандон, в 17 лет в 2014 году...  \n",
       "0  Нашел любопытный кейс, как в LinkedIn перестро...  "
      ]
     },
     "execution_count": 89,
     "metadata": {},
     "output_type": "execute_result"
    }
   ],
   "source": [
    "row_full = dict()\n",
    "habr_news_full = pd.DataFrame()\n",
    "\n",
    "for post in posts:\n",
    "    time.sleep(0.3)\n",
    "    post_class_link = post.find('h2', class_='post__title')\n",
    "    post_link =  post_class_link.find('a').get('href')\n",
    "    title_post = post_class_link.text\n",
    "    soup_for_full_text = BeautifulSoup(requests.get(post_link).text, 'html.parser')\n",
    "    text = soup_for_full_text.find('div', class_='post__text').text\n",
    "    text_date = post.find('span', class_='post__time').text\n",
    "    date = change_str_habr_date(text_date)\n",
    "    for word in KEYWORDS:\n",
    "        if word in title_post or word in text:\n",
    "            row_full = {'date': date, 'link':post_link, 'title':title_post, 'text':text}\n",
    "            habr_news_full = pd.concat([habr_news_full, pd.DataFrame([row_full])])\n",
    "\n",
    "            \n",
    "habr_news_full"
   ]
  },
  {
   "cell_type": "markdown",
   "metadata": {},
   "source": [
    "### Задание 2.\n",
    "\n",
    "#### Обязательная часть\n",
    "\n",
    "Написать скрипт, который будет проверять список e-mail адресов на утечку при помощи сервиса Avast Hack Ckeck. Список email-ов задаем переменной в начале кода:\n",
    "EMAIL = [xxx@x.ru, yyy@y.com]\n",
    "\n",
    "В итоге должен формироваться датафрейм со столбцами: <почта> - <дата утечки> - <источник утечки> - <описание утечки>\n",
    "\n",
    "Подсказка: сервис работает при помощи \"скрытого\" API. Внимательно изучите post-запросы."
   ]
  },
  {
   "cell_type": "code",
   "execution_count": 6,
   "metadata": {},
   "outputs": [],
   "source": [
    "import json"
   ]
  },
  {
   "cell_type": "code",
   "execution_count": 3,
   "metadata": {},
   "outputs": [],
   "source": [
    "URL_1 = 'https://identityprotection.avast.com/v1/web/query/site-breaches/unauthorized-data'\n",
    "headers = {'Vaar-Version': '0', 'Vaar-Header-App-Product':'hackcheck-web-avast'}"
   ]
  },
  {
   "cell_type": "code",
   "execution_count": 4,
   "metadata": {},
   "outputs": [],
   "source": [
    "emailAddresses = ['amoshkov@mail.ru', 'aamoshkov@gmail.com']\n",
    "dict_data = dict()\n",
    "dict_data['emailAddresses'] = emailAddresses"
   ]
  },
  {
   "cell_type": "code",
   "execution_count": 7,
   "metadata": {},
   "outputs": [],
   "source": [
    "data = json.dumps(dict_data)"
   ]
  },
  {
   "cell_type": "code",
   "execution_count": 10,
   "metadata": {},
   "outputs": [],
   "source": [
    "res = requests.post(URL_1, json=dict_data, headers=headers)\n",
    "dict_res = res.json()"
   ]
  },
  {
   "cell_type": "code",
   "execution_count": 11,
   "metadata": {},
   "outputs": [
    {
     "data": {
      "text/html": [
       "<div>\n",
       "<style scoped>\n",
       "    .dataframe tbody tr th:only-of-type {\n",
       "        vertical-align: middle;\n",
       "    }\n",
       "\n",
       "    .dataframe tbody tr th {\n",
       "        vertical-align: top;\n",
       "    }\n",
       "\n",
       "    .dataframe thead th {\n",
       "        text-align: right;\n",
       "    }\n",
       "</style>\n",
       "<table border=\"1\" class=\"dataframe\">\n",
       "  <thead>\n",
       "    <tr style=\"text-align: right;\">\n",
       "      <th></th>\n",
       "      <th>email</th>\n",
       "      <th>date</th>\n",
       "      <th>source</th>\n",
       "      <th>description</th>\n",
       "    </tr>\n",
       "  </thead>\n",
       "  <tbody>\n",
       "    <tr>\n",
       "      <th>0</th>\n",
       "      <td>amoshkov@mail.ru</td>\n",
       "      <td>2020-05-21T00:00:00Z</td>\n",
       "      <td>vk.com</td>\n",
       "      <td>At some time in 2020, the Russian social netwo...</td>\n",
       "    </tr>\n",
       "    <tr>\n",
       "      <th>0</th>\n",
       "      <td>amoshkov@mail.ru</td>\n",
       "      <td>2016-12-15T00:00:00Z</td>\n",
       "      <td>vedomosti.ru</td>\n",
       "      <td>In May 2012, Russian business newspaper Vedomo...</td>\n",
       "    </tr>\n",
       "    <tr>\n",
       "      <th>0</th>\n",
       "      <td>amoshkov@mail.ru</td>\n",
       "      <td>2018-06-19T00:00:00Z</td>\n",
       "      <td>storelp.ru</td>\n",
       "      <td>At an unconfirmed date, StoreLP.ru's database ...</td>\n",
       "    </tr>\n",
       "    <tr>\n",
       "      <th>0</th>\n",
       "      <td>amoshkov@mail.ru</td>\n",
       "      <td>2020-07-16T00:00:00Z</td>\n",
       "      <td>unknown</td>\n",
       "      <td>At an unconfirmed date, data purportedly assoc...</td>\n",
       "    </tr>\n",
       "    <tr>\n",
       "      <th>0</th>\n",
       "      <td>amoshkov@mail.ru</td>\n",
       "      <td>2017-03-31T00:00:00Z</td>\n",
       "      <td>fc-zenit.ru</td>\n",
       "      <td>In July 2010, FC Zenit's user database was all...</td>\n",
       "    </tr>\n",
       "  </tbody>\n",
       "</table>\n",
       "</div>"
      ],
      "text/plain": [
       "              email                  date        source  \\\n",
       "0  amoshkov@mail.ru  2020-05-21T00:00:00Z        vk.com   \n",
       "0  amoshkov@mail.ru  2016-12-15T00:00:00Z  vedomosti.ru   \n",
       "0  amoshkov@mail.ru  2018-06-19T00:00:00Z    storelp.ru   \n",
       "0  amoshkov@mail.ru  2020-07-16T00:00:00Z       unknown   \n",
       "0  amoshkov@mail.ru  2017-03-31T00:00:00Z   fc-zenit.ru   \n",
       "\n",
       "                                         description  \n",
       "0  At some time in 2020, the Russian social netwo...  \n",
       "0  In May 2012, Russian business newspaper Vedomo...  \n",
       "0  At an unconfirmed date, StoreLP.ru's database ...  \n",
       "0  At an unconfirmed date, data purportedly assoc...  \n",
       "0  In July 2010, FC Zenit's user database was all...  "
      ]
     },
     "execution_count": 11,
     "metadata": {},
     "output_type": "execute_result"
    }
   ],
   "source": [
    "leak_email = pd.DataFrame()\n",
    "\n",
    "for email in emailAddresses:\n",
    "    k = len(dict_res['summary'][f'{email}']['breaches'])\n",
    "    for i in range(k):\n",
    "        a = dict_res['summary'][f'{email}']['breaches'][i]\n",
    "        site = dict_res['breaches'][f'{a}']['site']\n",
    "        text = dict_res['breaches'][f'{a}']['description']\n",
    "        date = dict_res['breaches'][f'{a}']['publishDate']\n",
    "        row = {'email': email, 'date': date, 'source':site, 'description': text}\n",
    "        leak_email = pd.concat([leak_email, pd.DataFrame([row])])\n",
    "        \n",
    "        \n",
    "leak_email"
   ]
  },
  {
   "cell_type": "code",
   "execution_count": null,
   "metadata": {},
   "outputs": [],
   "source": []
  },
  {
   "cell_type": "markdown",
   "metadata": {},
   "source": [
    "#### Дополнительная часть (необязательная)\n",
    "\n",
    "Написать скрипт, который будет получать 50 последних постов указанной группы во Вконтакте.\n",
    "Документация к API VK: https://vk.com/dev/methods , вам поможет метод wall.get\n",
    "\n",
    "GROUP = 'netology'  \n",
    "TOKEN = УДАЛЯЙТЕ В ВЕРСИИ ДЛЯ ПРОВЕРКИ, НА GITHUB НЕ ВЫКЛАДЫВАТЬ\n",
    "В итоге должен формироваться датафрейм со столбцами: <дата поста> - <текст поста>\n",
    "\n",
    "#### ПРИМЕЧАНИЕ\n",
    "Домашнее задание сдается ссылкой на репозиторий GitHub. Не сможем проверить или помочь, если вы пришлете:\n",
    "\n",
    "файлы;\n",
    "архивы;\n",
    "скриншоты кода.\n",
    "Все обсуждения и консультации по выполнению домашнего задания ведутся только на соответствующем канале в slack."
   ]
  },
  {
   "cell_type": "code",
   "execution_count": null,
   "metadata": {},
   "outputs": [],
   "source": []
  },
  {
   "cell_type": "markdown",
   "metadata": {},
   "source": [
    "##### Как правильно задавать вопросы аспирантам, преподавателям и коллегам?\n",
    "\n",
    "Прежде чем задать вопрос необходимо попробовать найти ответ самому в интернете. Навык самостоятельного поиска информации – один из важнейших, и каждый практикующий специалист любого уровня это делает каждый день.\n",
    "\n",
    "Любой вопрос должен быть сформулирован по алгоритму:\n",
    "1) Что я делаю?\n",
    "2) Какого результата я ожидаю?\n",
    "3) Как фактический результат отличается от ожидаемого?\n",
    "4) Что я уже попробовал сделать, чтобы исправить проблему?\n",
    "\n",
    "По возможности, прикрепляйте к вопросу скриншоты, либо ссылки на код. Оставляйте только проблемный и воспроизводимый участок кода, все решение выкладывать не допускается."
   ]
  }
 ],
 "metadata": {
  "kernelspec": {
   "display_name": "Python 3",
   "language": "python",
   "name": "python3"
  },
  "language_info": {
   "codemirror_mode": {
    "name": "ipython",
    "version": 3
   },
   "file_extension": ".py",
   "mimetype": "text/x-python",
   "name": "python",
   "nbconvert_exporter": "python",
   "pygments_lexer": "ipython3",
   "version": "3.8.3"
  }
 },
 "nbformat": 4,
 "nbformat_minor": 4
}
