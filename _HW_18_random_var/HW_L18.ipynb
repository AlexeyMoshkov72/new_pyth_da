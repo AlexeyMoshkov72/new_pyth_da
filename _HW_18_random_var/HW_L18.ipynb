{
 "cells": [
  {
   "cell_type": "markdown",
   "metadata": {},
   "source": [
    "Смоделировать игру против лотерейного автомата типа \"777\". Игрок платит 1 руб., после чего выпадает трёхзначное случайное целое число, равномерно распределенное от 000 до 999. При некоторых значениях числа игрок получает выигрыш\n",
    "\n",
    "- 777: 200 руб.\n",
    "- 999: 100 руб.\n",
    "- 555: 50 руб.\n",
    "- 333: 15 руб.\n",
    "- 111: 10 руб.\n",
    "- *77: 5 руб.\n",
    "- **7: 3 руб.\n",
    "- *00: 2 руб.\n",
    "- **0: 1 руб.\n",
    "- / * – любая цифра\n",
    "\n",
    "● Выгодна ли игра игроку?\n",
    "● Сколько в среднем приобретает или теряет игрок за одну игру?\n",
    "\n",
    "Дополнительное задание повышенной сложности. Теоретически рассчитать средний выигрыш (проигрыш) и сравнить с результатами\n",
    "моделирования"
   ]
  },
  {
   "cell_type": "code",
   "execution_count": 7,
   "metadata": {},
   "outputs": [],
   "source": [
    "import numpy as np"
   ]
  },
  {
   "cell_type": "code",
   "execution_count": 39,
   "metadata": {},
   "outputs": [
    {
     "data": {
      "text/plain": [
       "(0.7023968, 7023968, 10000000)"
      ]
     },
     "execution_count": 39,
     "metadata": {},
     "output_type": "execute_result"
    }
   ],
   "source": [
    "gamble = 10000000\n",
    "sum_prize = 0\n",
    "bet = 0\n",
    "\n",
    "\n",
    "for i in range(gamble):\n",
    "    random_score = np.random.randint(0, 999)\n",
    "    if random_score == 777:\n",
    "        prize = 200\n",
    "    elif random_score == 999:\n",
    "        prize = 100\n",
    "    elif random_score == 555:\n",
    "        prize = 50\n",
    "    elif random_score == 333:\n",
    "        prize = 15\n",
    "    elif random_score == 111:\n",
    "        prize = 10\n",
    "    elif random_score%100 == 77:\n",
    "        prize = 5\n",
    "    elif random_score%10 == 7:\n",
    "        prize = 3\n",
    "    elif random_score%100 == 0:\n",
    "        prize = 2\n",
    "    elif random_score%10 == 0:\n",
    "        prize = 1\n",
    "    else:\n",
    "        prize = 0\n",
    "    \n",
    "    sum_prize = sum_prize + prize\n",
    "    bet = bet + 1\n",
    "    \n",
    "result_model = sum_prize/bet\n",
    "result_model, sum_prize, bet"
   ]
  },
  {
   "cell_type": "code",
   "execution_count": 37,
   "metadata": {},
   "outputs": [
    {
     "data": {
      "text/plain": [
       "0.7640000000000001"
      ]
     },
     "execution_count": 37,
     "metadata": {},
     "output_type": "execute_result"
    }
   ],
   "source": [
    "result = 1/1000 * (200 + 100 + 50 + 15 + 10) + 81/1000 * (3 + 1) + 9/1000 * 5 + 10/1000 * 2\n",
    "result"
   ]
  },
  {
   "cell_type": "code",
   "execution_count": null,
   "metadata": {},
   "outputs": [],
   "source": []
  },
  {
   "cell_type": "code",
   "execution_count": null,
   "metadata": {},
   "outputs": [],
   "source": []
  }
 ],
 "metadata": {
  "kernelspec": {
   "display_name": "Python 3",
   "language": "python",
   "name": "python3"
  },
  "language_info": {
   "codemirror_mode": {
    "name": "ipython",
    "version": 3
   },
   "file_extension": ".py",
   "mimetype": "text/x-python",
   "name": "python",
   "nbconvert_exporter": "python",
   "pygments_lexer": "ipython3",
   "version": "3.8.3"
  }
 },
 "nbformat": 4,
 "nbformat_minor": 4
}
