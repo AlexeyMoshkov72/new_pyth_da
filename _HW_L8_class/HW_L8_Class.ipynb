{
 "cells": [
  {
   "cell_type": "markdown",
   "metadata": {},
   "source": [
    "### Задание 1\n",
    "\n",
    "Напишите функцию, которая возвращает название валюты (поле ‘Name’) с максимальным значением курса с помощью сервиса https://www.cbr-xml-daily.ru/daily_json.js\n"
   ]
  },
  {
   "cell_type": "code",
   "execution_count": 24,
   "metadata": {},
   "outputs": [],
   "source": [
    "import json\n",
    "import requests\n",
    "\n",
    "def val_rate_max():\n",
    "    rate = requests.get('https://www.cbr-xml-daily.ru/daily_json.js').json()['Valute']\n",
    "        \n",
    "    info = []\n",
    "      \n",
    "    for k, v in rate.items():\n",
    "        n = v['Name']\n",
    "        a = v['Value']\n",
    "        b = v['Previous']\n",
    "        if a > b:\n",
    "            c = a\n",
    "        else: c = b\n",
    "        info.append(n, c)\n",
    "    \n",
    "    return info"
   ]
  },
  {
   "cell_type": "code",
   "execution_count": 25,
   "metadata": {},
   "outputs": [
    {
     "data": {
      "text/plain": [
       "[['Австралийский доллар', 55.7706],\n",
       " ['Азербайджанский манат', 46.6935],\n",
       " ['Фунт стерлингов Соединенного королевства', 102.5449],\n",
       " ['Армянских драмов', 16.0868],\n",
       " ['Белорусский рубль', 30.0946],\n",
       " ['Болгарский лев', 47.3371],\n",
       " ['Бразильский реал', 13.7274],\n",
       " ['Венгерских форинтов', 25.1749],\n",
       " ['Гонконгский доллар', 10.2329],\n",
       " ['Датская крона', 12.431],\n",
       " ['Доллар США', 79.3323],\n",
       " ['Евро', 92.6284],\n",
       " ['Индийских рупий', 10.6425],\n",
       " ['Казахстанских тенге', 18.3154],\n",
       " ['Канадский доллар', 59.532],\n",
       " ['Киргизских сомов', 97.1067],\n",
       " ['Китайский юань', 11.8403],\n",
       " ['Молдавских леев', 46.5292],\n",
       " ['Норвежских крон', 83.9577],\n",
       " ['Польский злотый', 20.0532],\n",
       " ['Румынский лей', 18.9922],\n",
       " ['СДР (специальные права заимствования)', 112.0164],\n",
       " ['Сингапурский доллар', 58.0849],\n",
       " ['Таджикских сомони', 76.6866],\n",
       " ['Турецких лир', 95.254],\n",
       " ['Новый туркменский манат', 22.6988],\n",
       " ['Узбекских сумов', 76.5682],\n",
       " ['Украинских гривен', 27.8971],\n",
       " ['Чешских крон', 33.8803],\n",
       " ['Шведских крон', 89.0109],\n",
       " ['Швейцарский франк', 86.5884],\n",
       " ['Южноафриканских рэндов', 48.5905],\n",
       " ['Вон Республики Корея', 69.8695],\n",
       " ['Японских иен', 76.0361]]"
      ]
     },
     "execution_count": 25,
     "metadata": {},
     "output_type": "execute_result"
    }
   ],
   "source": [
    "val_shift()"
   ]
  },
  {
   "cell_type": "markdown",
   "metadata": {},
   "source": [
    "### Задание 2\n",
    "\n",
    "Добавьте в класс Rate параметр diff (со значениями True или False), который в случае значения True в методах курсов валют (eur, usd итд) будет возвращать не курс валюты, а изменение по сравнению в прошлым значением. Считайте, self.diff будет принимать значение True только при возврате значения курса. При отображении всей информации о валюте он не используется.\n"
   ]
  },
  {
   "cell_type": "code",
   "execution_count": 31,
   "metadata": {},
   "outputs": [],
   "source": [
    "class Rate:\n",
    "    def __init__(self, format_='value', diff = True):\n",
    "        self.format = format_\n",
    "        self.diff = diff\n",
    "    \n",
    "    def exchange_rates(self):\n",
    "        \"\"\"\n",
    "        Возвращает ответ сервиса с информацией о валютах в виде:\n",
    "        \n",
    "        {\n",
    "            'AMD': {\n",
    "                'CharCode': 'AMD',\n",
    "                'ID': 'R01060',\n",
    "                'Name': 'Армянских драмов',\n",
    "                'Nominal': 100,\n",
    "                'NumCode': '051',\n",
    "                'Previous': 14.103,\n",
    "                'Value': 14.0879\n",
    "                },\n",
    "            ...\n",
    "        }\n",
    "        \"\"\"\n",
    "        self.r = requests.get('https://www.cbr-xml-daily.ru/daily_json.js')\n",
    "        return self.r.json()['Valute']\n",
    "    \n",
    "    def make_format(self, currency):\n",
    "        \"\"\"\n",
    "        Возвращает информацию о валюте currency в двух вариантах:\n",
    "        - полная информация о валюте при self.format = 'full':\n",
    "        Rate('full').make_format('EUR')\n",
    "        {\n",
    "            'CharCode': 'EUR',\n",
    "            'ID': 'R01239',\n",
    "            'Name': 'Евро',\n",
    "            'Nominal': 1,\n",
    "            'NumCode': '978',\n",
    "            'Previous': 79.6765,\n",
    "            'Value': 79.4966\n",
    "        }\n",
    "        \n",
    "        Rate('value').make_format('EUR')\n",
    "        79.4966\n",
    "        \"\"\"\n",
    "        response = self.exchange_rates()\n",
    "        \n",
    "        if currency in response:\n",
    "            if self.format == 'full':\n",
    "                return response[currency]\n",
    "            \n",
    "            if self.format == 'value':\n",
    "                if self.diff == True:\n",
    "                    return response[currency]['Value'] - response[currency]['Previous']\n",
    "                else: return response[currency]['Value']\n",
    "        \n",
    "        return 'Error'\n",
    "    \n",
    "    def eur(self):\n",
    "        \"\"\"Возвращает курс евро на сегодня в формате self.format\"\"\"\n",
    "        return self.make_format('EUR')\n",
    "    \n",
    "    def usd(self):\n",
    "        \"\"\"Возвращает курс доллара на сегодня в формате self.format\"\"\"\n",
    "        return self.make_format('USD')\n",
    "    \n",
    "    def brl(self):\n",
    "        \"\"\"Возвращает курс бразильского реала на сегодня в формате self.format\"\"\"\n",
    "        return self.make_format('BRL')"
   ]
  },
  {
   "cell_type": "code",
   "execution_count": 36,
   "metadata": {},
   "outputs": [],
   "source": [
    "r = Rate(format_='value', diff = False)"
   ]
  },
  {
   "cell_type": "code",
   "execution_count": 37,
   "metadata": {},
   "outputs": [
    {
     "data": {
      "text/plain": [
       "93.757"
      ]
     },
     "execution_count": 37,
     "metadata": {},
     "output_type": "execute_result"
    }
   ],
   "source": [
    "r.make_format('EUR')"
   ]
  },
  {
   "cell_type": "markdown",
   "metadata": {},
   "source": [
    "### Задание 3\n",
    "\n",
    "Напишите класс Designer, который учитывает количество международных премий. Подсказки в коде занятия в разделе “Домашнее задание задача 3”.\n",
    "\n",
    "Комментарий по классу Designer такой:\n",
    "\n",
    "Напишите класс Designer, который учитывает количество международных премий для дизайнеров (из презентации: “Повышение на 1 грейд за каждые 7 баллов. Получение международной премии – это +2 балла”). Считайте, что при выходе на работу сотрудник уже имеет две премии и их количество не меняется со стажем (конечно если хотите это можно вручную менять).\n"
   ]
  },
  {
   "cell_type": "code",
   "execution_count": 2,
   "metadata": {},
   "outputs": [],
   "source": [
    "class Employee:\n",
    "    def __init__(self, name, seniority):\n",
    "        self.name = name\n",
    "        self.seniority = seniority\n",
    "        \n",
    "        self.grade = 1\n",
    "    \n",
    "    def grade_up(self):\n",
    "        \"\"\"Повышает уровень сотрудника\"\"\"\n",
    "        self.grade += 1\n",
    "    \n",
    "    def publish_grade(self):\n",
    "        \"\"\"Публикация результатов аккредитации сотрудников\"\"\"\n",
    "        print(self.name, self.grade)\n",
    "    \n",
    "    def check_if_it_is_time_for_upgrade(self):\n",
    "        pass"
   ]
  },
  {
   "cell_type": "code",
   "execution_count": 6,
   "metadata": {},
   "outputs": [],
   "source": [
    "class Designer(Employee):\n",
    "    def __init__(self, name, seniority, prize=False):\n",
    "        super().__init__(name, seniority)\n",
    "        self.prize = prize\n",
    "        \n",
    "        self.count_prize = 2\n",
    "        self.k = 0\n",
    "    \n",
    "    def count_prize(self):\n",
    "        if self.prize == True:\n",
    "            self.count_prize += 1\n",
    "            #self.k = 2\n",
    "        \n",
    "        return self.count_prize\n",
    "    \n",
    "    def check_if_it_is_time_for_upgrade(self):\n",
    "        # проверка получения баллов за премии\n",
    "        if self.prize == True:\n",
    "            self.k = 2\n",
    "        \n",
    "        # для каждой аккредитации увеличиваем счетчик на 1\n",
    "        # пока считаем, что все разработчики проходят аккредитацию\n",
    "        self.seniority = (self.seniority + 1)  + self.k\n",
    "        \n",
    "    \n",
    "\n",
    "        # условие повышения сотрудника из презентации\n",
    "        if self.seniority % 7 == 0:\n",
    "              self.grade_up()\n",
    "            \n",
    "        return self.publish_grade()    \n",
    "        "
   ]
  },
  {
   "cell_type": "code",
   "execution_count": null,
   "metadata": {},
   "outputs": [],
   "source": []
  }
 ],
 "metadata": {
  "kernelspec": {
   "display_name": "Python 3",
   "language": "python",
   "name": "python3"
  },
  "language_info": {
   "codemirror_mode": {
    "name": "ipython",
    "version": 3
   },
   "file_extension": ".py",
   "mimetype": "text/x-python",
   "name": "python",
   "nbconvert_exporter": "python",
   "pygments_lexer": "ipython3",
   "version": "3.8.3"
  }
 },
 "nbformat": 4,
 "nbformat_minor": 4
}
