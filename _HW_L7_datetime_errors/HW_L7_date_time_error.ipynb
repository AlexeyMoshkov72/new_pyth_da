{
 "cells": [
  {
   "cell_type": "markdown",
   "metadata": {},
   "source": [
    "### Задание 1\n",
    "\n",
    "Печатные газеты использовали свой формат дат для каждого выпуска. Для каждой газеты из списка напишите формат указанной даты для перевода в объект datetime:\n",
    "\n",
    "The Moscow Times - Wednesday, October 2, 2002\n",
    "\n",
    "The Guardian - Friday, 11.10.13\n",
    "\n",
    "Daily News - Thursday, 18 August 1977\n"
   ]
  },
  {
   "cell_type": "code",
   "execution_count": 7,
   "metadata": {},
   "outputs": [
    {
     "name": "stdout",
     "output_type": "stream",
     "text": [
      "2002-10-02 00:00:00 2013-10-11 00:00:00 1977-08-18 00:00:00\n"
     ]
    }
   ],
   "source": [
    "from datetime import datetime\n",
    "\n",
    "str_date_MT = 'Wednesday, October 2, 2002'\n",
    "str_date_G = 'Friday, 11.10.13'\n",
    "str_date_DN = 'Thursday, 18 August 1977'\n",
    "\n",
    "date_MT_dt = datetime.strptime(str_date_MT, '%A, %B %d, %Y')\n",
    "date_G_dt = datetime.strptime(str_date_G, '%A, %d.%m.%y')\n",
    "date_DN_dt = datetime.strptime(str_date_DN, '%A, %d %B %Y')\n",
    "\n",
    "#print(date_MT_dt, date_G_dt, date_DN_dt)"
   ]
  },
  {
   "cell_type": "markdown",
   "metadata": {},
   "source": [
    "### Задание 2\n",
    "Дан поток дат в формате YYYY-MM-DD, в которых встречаются некорректные значения:\n",
    "stream = [‘2018-04-02’, ‘2018-02-29’, ‘2018-19-02’]\n",
    "\n",
    "Напишите функцию, которая проверяет эти даты на корректность. Т. е. для каждой даты возвращает True (дата корректна) или False (некорректная дата).\n"
   ]
  },
  {
   "cell_type": "code",
   "execution_count": 18,
   "metadata": {},
   "outputs": [],
   "source": [
    "stream = ['2018-04-02', '2018-02-29', '2018-19-02']\n",
    "\n",
    "def check_date(st_date):\n",
    "    for el in st_date:\n",
    "        try:\n",
    "            date_dt = datetime.strptime(el, '%Y-%m-%d')\n",
    "            k = True\n",
    "        except:\n",
    "            k = False\n",
    "        print(el, k)\n",
    "    return\n"
   ]
  },
  {
   "cell_type": "code",
   "execution_count": 19,
   "metadata": {},
   "outputs": [
    {
     "name": "stdout",
     "output_type": "stream",
     "text": [
      "2018-04-02 True\n",
      "2018-02-29 False\n",
      "2018-19-02 False\n"
     ]
    }
   ],
   "source": [
    "check_date(stream)"
   ]
  },
  {
   "cell_type": "markdown",
   "metadata": {},
   "source": [
    "### Задание 3\n",
    "\n",
    "Напишите функцию date_range, которая возвращает список дат за период от start_date до end_date. \n",
    "\n",
    "Даты должны вводиться в формате YYYY-MM-DD. В случае неверного формата или при start_date > end_date должен возвращаться пустой список.\n"
   ]
  },
  {
   "cell_type": "code",
   "execution_count": 30,
   "metadata": {},
   "outputs": [],
   "source": [
    "from datetime import timedelta\n",
    "\n",
    "start_date_str = '2020-01-01'\n",
    "end_date_str = '2020-01-10'\n",
    "\n",
    "def date_range(start_date, end_date):\n",
    "    date_list = []\n",
    "\n",
    "    try:\n",
    "        start_dt = datetime.strptime(start_date, '%Y-%m-%d')\n",
    "        end_dt = datetime.strptime(end_date, '%Y-%m-%d')\n",
    "    \n",
    "        if start_dt < end_dt:\n",
    "        \n",
    "            current_dt = start_dt\n",
    "\n",
    "            while current_dt <= end_dt:\n",
    "                date_list.append(current_dt.strftime('%Y-%m-%d'))\n",
    "    \n",
    "                current_dt += timedelta(days=1)\n",
    "        else: date_list = []\n",
    "\n",
    "    except:\n",
    "        date_list = []\n",
    "        \n",
    "    return date_list"
   ]
  },
  {
   "cell_type": "code",
   "execution_count": 31,
   "metadata": {},
   "outputs": [
    {
     "data": {
      "text/plain": [
       "['2020-01-01',\n",
       " '2020-01-02',\n",
       " '2020-01-03',\n",
       " '2020-01-04',\n",
       " '2020-01-05',\n",
       " '2020-01-06',\n",
       " '2020-01-07',\n",
       " '2020-01-08',\n",
       " '2020-01-09',\n",
       " '2020-01-10']"
      ]
     },
     "execution_count": 31,
     "metadata": {},
     "output_type": "execute_result"
    }
   ],
   "source": [
    "date_range(start_date_str, end_date_str)"
   ]
  },
  {
   "cell_type": "markdown",
   "metadata": {},
   "source": [
    "### Задание 4 (бонусное)\n",
    "Ваш коллега прислал код функции:\n",
    "DEFAULT_USER_COUNT = 3\n",
    "def delete_and_return_last_user(region, default_list=[‘A100’, ‘A101’, ‘A102’]):\n",
    "\"\"“\n",
    "Удаляет из списка default_list последнего пользователя\n",
    "и возвращает ID нового последнего пользователя.\n",
    "”\"\"\n",
    "element_to_delete = default_list[-1]\n",
    "default_list.remove(element_to_delete)\n",
    "return default_list[DEFAULT_USER_COUNT-2]\n",
    "При однократном вызове этой функции все работает корректно:\n",
    "delete_and_return_last_user(1)\n",
    "‘A101’\n",
    "Однако, при повторном вызове получается ошибка IndexError: list index out of range.\n",
    "Задание:\n",
    "1.\tЧто значит ошибка list index out of range?\n",
    "2.\tПочему при первом запуске функция работает корректно, а при втором - нет?\n",
    "\n",
    "Важно! замечание к заданию.\n",
    "\n",
    "**** Для зачета достаточно сделать любые два задания из трех! (четвертое бонусное)****\n",
    "При копировании с сайта нетологии Jupyter ноутбук изменяет кавычки ’ на `. Прошу учесть данный факт и обращать внимание.\n",
    "Достаточно просто заменить кавычки.\n"
   ]
  },
  {
   "cell_type": "markdown",
   "metadata": {},
   "source": [
    "### Ответ\n",
    "\n",
    "1. ошибка list index out of range означает, что осуществляется попытка обратиться к элементу списка по индексу, но элемент с таким индексом в списке отсутствует\n",
    "\n",
    "2. В стартовом списке 3 элемента. При первом запуске функции происходит удаление одного элемента из списка (т.е. остается два элемента в списке) и происходит обращение к элементу с индексом -2, и в списке из 2-х элементов элемент с таким индексом присутствует. При втором запуске функции удаляется ещё один элемент, и в списке остается только один элемент, и элемент с индексом -2 в таком списке отсутствует.\n"
   ]
  }
 ],
 "metadata": {
  "kernelspec": {
   "display_name": "Python 3",
   "language": "python",
   "name": "python3"
  },
  "language_info": {
   "codemirror_mode": {
    "name": "ipython",
    "version": 3
   },
   "file_extension": ".py",
   "mimetype": "text/x-python",
   "name": "python",
   "nbconvert_exporter": "python",
   "pygments_lexer": "ipython3",
   "version": "3.8.3"
  }
 },
 "nbformat": 4,
 "nbformat_minor": 4
}
