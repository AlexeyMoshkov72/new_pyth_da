{
 "cells": [
  {
   "cell_type": "markdown",
   "metadata": {},
   "source": [
    "Задание 1\n",
    "Дана переменная, в которой хранится слово из латинских букв. Напишите код, который выводит на экран:\n",
    "•\tсреднюю букву, если число букв в слове нечетное;\n",
    "•\tдве средних буквы, если число букв четное.\n",
    "Примеры работы программы:\n",
    "1.\tword = 'test'\n",
    "Результат:\n",
    "es\n",
    "1.\tword = 'testing'\n",
    "Результат:\n",
    "t\n"
   ]
  },
  {
   "cell_type": "code",
   "execution_count": 16,
   "metadata": {},
   "outputs": [
    {
     "name": "stdout",
     "output_type": "stream",
     "text": [
      "Insert word testing\n",
      "t\n"
     ]
    }
   ],
   "source": [
    "word = input('Insert word ')\n",
    "\n",
    "l_word = len(word)\n",
    "\n",
    "if l_word % 2 == 0:\n",
    "    lett_1 = int(l_word/2-1)\n",
    "    print(word[lett_1: lett_1 + 2])\n",
    "else:\n",
    "    lett_2 = int(l_word//2)\n",
    "    print (word[lett_2])"
   ]
  },
  {
   "cell_type": "markdown",
   "metadata": {},
   "source": [
    "Задание 2 Напишите программу, которая последовательно запрашивает у пользователя числа (по одному за раз) и после первого нуля выводит сумму всех ранее введенных чисел."
   ]
  },
  {
   "cell_type": "code",
   "execution_count": 20,
   "metadata": {},
   "outputs": [
    {
     "name": "stdout",
     "output_type": "stream",
     "text": [
      "Введите число5\n",
      "Введите число5\n",
      "Введите число6\n",
      "Введите число0\n",
      "16\n"
     ]
    }
   ],
   "source": [
    "y = 0\n",
    "\n",
    "while x != 0:\n",
    "    x = int(input('Введите число'))\n",
    "    y = y + x\n",
    "print(y)"
   ]
  },
  {
   "cell_type": "markdown",
   "metadata": {},
   "source": [
    "Задание 3\n",
    "Мы делаем MVP dating-сервиса, и у нас есть список парней и девушек.\n",
    "Выдвигаем гипотезу: лучшие рекомендации мы получим, если просто отсортируем имена по алфавиту и познакомим людей с одинаковыми индексами после сортировки! Но мы не будем никого знакомить, если кто-то может остаться без пары\n"
   ]
  },
  {
   "cell_type": "code",
   "execution_count": 52,
   "metadata": {},
   "outputs": [
    {
     "name": "stdout",
     "output_type": "stream",
     "text": [
      "Alex и Emma\n",
      "Arthur и Kate\n",
      "John и Kira\n",
      "Peter и Liza\n",
      "Richard и Trisha\n"
     ]
    }
   ],
   "source": [
    "#boys = ['Peter', 'Alex', 'John', 'Arthur', 'Richard', 'Michael']\n",
    "boys = ['Peter', 'Alex', 'John', 'Arthur', 'Richard']\n",
    "girls = ['Kate', 'Liza', 'Kira', 'Emma', 'Trisha']\n",
    "\n",
    "\n",
    "if len(boys) == len(girls):\n",
    "    s_boys = sorted(boys)\n",
    "    s_girls = sorted(girls)\n",
    "    i = 0\n",
    "    for b in boys:\n",
    "        print(f'{s_boys[i]} и {s_girls[i]}')\n",
    "        i += 1\n",
    "else:\n",
    "    print('Внимание, кто-то может остаться без пары!')"
   ]
  },
  {
   "cell_type": "markdown",
   "metadata": {},
   "source": [
    "Задание 4\n",
    "У нас есть список, содержащий информацию о среднедневной температуре в Фаренгейтах за произвольный период по странам (структура данных в примере). \n",
    "Необходимо написать код, который рассчитает среднюю температуру за период в Цельсиях(!) для каждой страны\n"
   ]
  },
  {
   "cell_type": "code",
   "execution_count": 59,
   "metadata": {},
   "outputs": [
    {
     "name": "stdout",
     "output_type": "stream",
     "text": [
      "Средняя температура в странах:\n",
      "Thailand - 39.1 C\n",
      "Germany - 28.0 C\n",
      "Russia - 19.0 C\n",
      "Poland - 26.8 C\n"
     ]
    }
   ],
   "source": [
    "countries_temperature = [\n",
    "    ['Thailand', [75.2, 77, 78.8, 73.4, 68, 75.2, 77]],\n",
    "    ['Germany', [57.2, 55.4, 59, 59, 53.6]],\n",
    "    ['Russia', [35.6, 37.4, 39.2, 41, 42.8, 39.2, 35.6]],\n",
    "    ['Poland', [50, 50, 53.6, 57.2, 55.4, 55.4]]\n",
    "]\n",
    "\n",
    "print('Средняя температура в странах:')   \n",
    "\n",
    "for country in countries_temperature:\n",
    "    print(country[0], '-',end = ' ')\n",
    "    temp_c = round(((sum(country[1]) - 32) * 5 / 9) / len(country[1]), 1)\n",
    "    print(f'{temp_c} C')\n"
   ]
  },
  {
   "cell_type": "markdown",
   "metadata": {},
   "source": [
    "Задание 5 Дан поток логов по количеству просмотренных страниц для каждого пользователя. \n",
    "Вам необходимо написать алгоритм, который считает среднее значение просмотров на пользователя. \n",
    "Т. е. надо посчитать отношение суммы всех просмотров к количеству уникальных пользователей."
   ]
  },
  {
   "cell_type": "code",
   "execution_count": 59,
   "metadata": {},
   "outputs": [
    {
     "name": "stdout",
     "output_type": "stream",
     "text": [
      "Среднее количество просмотров на уникального пользователя: 23.25\n"
     ]
    }
   ],
   "source": [
    "stream = [\n",
    "    '2018-01-01,user1,3',\n",
    "    '2018-01-07,user1,4',\n",
    "    '2018-03-29,user1,1',\n",
    "    '2018-04-04,user1,13',\n",
    "    '2018-01-05,user2,7',\n",
    "    '2018-06-14,user3,4',\n",
    "    '2018-07-02,user3,10',\n",
    "    '2018-03-21,user4,19',\n",
    "    '2018-03-22,user4,4',\n",
    "    '2018-04-22,user4,8',\n",
    "    '2018-05-03,user4,9',\n",
    "    '2018-05-11,user4,11',\n",
    "]\n",
    "\n",
    "user_list = []\n",
    "\n",
    "views = 0\n",
    "\n",
    "for el in stream:\n",
    "    splitted_el = el.split(',')\n",
    "    views = views + int(splitted_el[2])\n",
    "    if splitted_el[1] not in user_list:\n",
    "        user_list.append(splitted_el[1])\n",
    "        \n",
    "    \n",
    "av_views = views / len(user_list)\n",
    "print(f'Среднее количество просмотров на уникального пользователя: {av_views}')"
   ]
  },
  {
   "cell_type": "markdown",
   "metadata": {},
   "source": [
    "Задание 6 Необходимо у пользователя запрашивать набор чисел разделенных пробелом. \n",
    "В результате должны выводиться числа, которые повторяются в вводе более одного раза."
   ]
  },
  {
   "cell_type": "code",
   "execution_count": 64,
   "metadata": {},
   "outputs": [
    {
     "name": "stdout",
     "output_type": "stream",
     "text": [
      "Введите числа через пробел 1 3 5 5 3 4 7 8 9 6 5\n",
      "['3', '5']\n"
     ]
    }
   ],
   "source": [
    "numbers = input('Введите числа через пробел ').split()\n",
    "\n",
    "res = []\n",
    "\n",
    "for num in numbers:\n",
    "    if (numbers.count(num) > 1) and num not in res:\n",
    "        res.append(num)\n",
    "print(res)        \n"
   ]
  }
 ],
 "metadata": {
  "kernelspec": {
   "display_name": "Python 3",
   "language": "python",
   "name": "python3"
  },
  "language_info": {
   "codemirror_mode": {
    "name": "ipython",
    "version": 3
   },
   "file_extension": ".py",
   "mimetype": "text/x-python",
   "name": "python",
   "nbconvert_exporter": "python",
   "pygments_lexer": "ipython3",
   "version": "3.8.3"
  }
 },
 "nbformat": 4,
 "nbformat_minor": 4
}
