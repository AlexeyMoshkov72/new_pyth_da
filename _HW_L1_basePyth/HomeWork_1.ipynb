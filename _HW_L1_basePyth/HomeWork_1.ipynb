{
 "cells": [
  {
   "cell_type": "code",
   "execution_count": 10,
   "metadata": {},
   "outputs": [
    {
     "name": "stdout",
     "output_type": "stream",
     "text": [
      "Фраза 1 длиннее фразы 2\n"
     ]
    }
   ],
   "source": [
    "#task_1\n",
    "\n",
    "phrase_1 = 'Насколько проще было бы писать программы, если бы не заказчики'\n",
    "phrase_2 = '640Кб должно хватить для любых задач. Билл Гейтс (по легенде)'\n",
    "\n",
    "if len(phrase_1)>len(phrase_2): \n",
    "    print('Фраза 1 длиннее фразы 2')\n",
    "elif len(phrase_1)<len(phrase_2): \n",
    "    print('Фраза 2 длиннее фразы 1')\n",
    "else: print('Фразы равной длины')\n",
    "    "
   ]
  },
  {
   "cell_type": "code",
   "execution_count": 5,
   "metadata": {},
   "outputs": [
    {
     "name": "stdout",
     "output_type": "stream",
     "text": [
      "Обычный год\n"
     ]
    }
   ],
   "source": [
    "#task_2\n",
    "\n",
    "year = 2019\n",
    "\n",
    "if year%400==0 and year%100 == 0: \n",
    "    print('Високосный год')\n",
    "elif year%4==0 and year%100 != 0:\n",
    "    print('Високосный год')\n",
    "else: print('Обычный год')"
   ]
  },
  {
   "cell_type": "code",
   "execution_count": 28,
   "metadata": {},
   "outputs": [
    {
     "name": "stdout",
     "output_type": "stream",
     "text": [
      "Введите день вашего рождения: 2\n",
      "Введите месяц вашего рождения: март\n",
      "Ваш знак зодиака: Рыбы\n"
     ]
    }
   ],
   "source": [
    "#task_3\n",
    "\n",
    "user_day = int(input('Введите день вашего рождения: '))\n",
    "user_month = input('Введите месяц вашего рождения: ')\n",
    "\n",
    "if (user_month.lower() == 'март' and user_day >= 21) or (user_month.lower() == 'апрель' and user_day <= 19):\n",
    "    print ('Ваш знак зодиака: Овен')\n",
    "elif (user_month.lower() == 'апрель' and user_day >= 20) or (user_month.lower() == 'май' and user_day <= 20):\n",
    "    print ('Ваш знак зодиака: Телец')\n",
    "elif (user_month.lower() == 'май' and user_day >= 21) or (user_month.lower() == 'июнь' and user_day <= 20):\n",
    "    print ('Ваш знак зодиака: Близнецы')   \n",
    "elif (user_month.lower() == 'июнь' and user_day >= 21) or (user_month.lower() == 'июль' and user_day <= 22):\n",
    "    print ('Ваш знак зодиака: Рак')\n",
    "elif (user_month.lower() == 'июль' and user_day >= 23) or (user_month.lower() == 'август' and user_day <= 22):\n",
    "    print ('Ваш знак зодиака: Лев') \n",
    "elif (user_month.lower() == 'август' and user_day >= 23) or (user_month.lower() == 'сентябрь' and user_day <= 22):\n",
    "    print ('Ваш знак зодиака: Дева')\n",
    "elif (user_month.lower() == 'сентябрь' and user_day >= 23) or (user_month.lower() == 'октябрь' and user_day <= 22):\n",
    "    print ('Ваш знак зодиака: Весы')\n",
    "elif (user_month.lower() == 'октябрь' and user_day >= 23) or (user_month.lower() == 'ноябрь' and user_day <= 21):\n",
    "    print ('Ваш знак зодиака: Скорпион')\n",
    "elif (user_month.lower() == 'ноябрь' and user_day >= 22) or (user_month.lower() == 'декабрь' and user_day <= 21):\n",
    "    print ('Ваш знак зодиака: Стрелец')\n",
    "elif (user_month.lower() == 'декабрь' and user_day >= 22) or (user_month.lower() == 'январь' and user_day <= 19):\n",
    "    print ('Ваш знак зодиака: Козерог')\n",
    "elif (user_month.lower() == 'январь' and user_day >= 20) or (user_month.lower() == 'февраль' and user_day <= 18):\n",
    "    print ('Ваш знак зодиака: Водолей')\n",
    "elif (user_month.lower() == 'февраль' and user_day >= 19) or (user_month.lower() == 'март' and user_day <= 20):\n",
    "    print ('Ваш знак зодиака: Рыбы')"
   ]
  },
  {
   "cell_type": "code",
   "execution_count": 29,
   "metadata": {},
   "outputs": [
    {
     "name": "stdout",
     "output_type": "stream",
     "text": [
      "Введите габариты товара в сантиметрах\n",
      "Введите ширину: 20\n",
      "Введите длинну: 20\n",
      "Введите высоту: 25\n",
      "Используйте коробку №3\n"
     ]
    }
   ],
   "source": [
    "#task_4\n",
    "\n",
    "print('Введите габариты товара в сантиметрах')\n",
    "width = int(input('Введите ширину: '))\n",
    "length = int(input('Введите длинну: '))\n",
    "height = int(input('Введите высоту: '))\n",
    "\n",
    "if width+length+height<15:\n",
    "    print('Используйте коробку №1')\n",
    "elif width+length+height>=15 and width+length+height<50:\n",
    "    print('Используйте коробку №2')\n",
    "elif width+length+height>=200:\n",
    "    print('Используйте упаковку для лыж')\n",
    "else: print('Используйте коробку №3')"
   ]
  },
  {
   "cell_type": "code",
   "execution_count": 59,
   "metadata": {},
   "outputs": [
    {
     "name": "stdout",
     "output_type": "stream",
     "text": [
      "Введите шестизначный номер билета: 611521\n",
      "Счастливый билет\n"
     ]
    }
   ],
   "source": [
    "#task_5\n",
    "\n",
    "number = int(input('Введите шестизначный номер билета: '))\n",
    "\n",
    "str_lst = list(str(number))\n",
    "int_lst = [int(x) for x in str_lst]\n",
    "\n",
    "if sum(int_lst[0: 3]) == sum(int_lst[3: 6]):\n",
    "    print('Счастливый билет')\n",
    "else: print('Несчастный билет')"
   ]
  },
  {
   "cell_type": "code",
   "execution_count": 58,
   "metadata": {},
   "outputs": [
    {
     "name": "stdout",
     "output_type": "stream",
     "text": [
      "Введите номер билета: 356811\n",
      "Несчастный билет\n"
     ]
    }
   ],
   "source": []
  }
 ],
 "metadata": {
  "kernelspec": {
   "display_name": "Python 3",
   "language": "python",
   "name": "python3"
  },
  "language_info": {
   "codemirror_mode": {
    "name": "ipython",
    "version": 3
   },
   "file_extension": ".py",
   "mimetype": "text/x-python",
   "name": "python",
   "nbconvert_exporter": "python",
   "pygments_lexer": "ipython3",
   "version": "3.8.3"
  }
 },
 "nbformat": 4,
 "nbformat_minor": 4
}
